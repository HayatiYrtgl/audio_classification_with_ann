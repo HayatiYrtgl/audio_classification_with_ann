{
 "cells": [
  {
   "cell_type": "code",
   "execution_count": 1,
   "id": "cbbf94e3-55f5-47ef-b779-a63e27ab29d3",
   "metadata": {},
   "outputs": [],
   "source": [
    "import pandas as pd\n",
    "import numpy as np\n",
    "import matplotlib.pyplot as plt\n",
    "import seaborn as sns\n",
    "import librosa\n",
    "from sklearn.model_selection import train_test_split\n",
    "from glob import glob"
   ]
  },
  {
   "cell_type": "code",
   "execution_count": 8,
   "id": "4f4a31b9-7d69-4959-94d7-4e98b5455264",
   "metadata": {},
   "outputs": [],
   "source": [
    "# create dataframe\n",
    "def create_dataframe():\n",
    "\n",
    "    file_paths = glob(\"../DATASET/archive/audio_data/train/*/*.wav\")\n",
    "    paths = []\n",
    "    labels = []\n",
    "    for file in file_paths:\n",
    "        df_labels = file.split(\"/\")[-2]\n",
    "        labels.append(df_labels)\n",
    "        paths.append(file)\n",
    "\n",
    "    return paths, labels"
   ]
  },
  {
   "cell_type": "code",
   "execution_count": 9,
   "id": "46c0f240-20e6-430a-9a09-5adda6145c0f",
   "metadata": {},
   "outputs": [],
   "source": [
    "paths, labels = create_dataframe()"
   ]
  },
  {
   "cell_type": "code",
   "execution_count": 11,
   "id": "9b8185ee-802a-4d6a-b32c-f371535a57ea",
   "metadata": {},
   "outputs": [
    {
     "data": {
      "text/plain": [
       "800"
      ]
     },
     "execution_count": 11,
     "metadata": {},
     "output_type": "execute_result"
    }
   ],
   "source": [
    "len(paths)"
   ]
  },
  {
   "cell_type": "code",
   "execution_count": 12,
   "id": "8520fe24-d22f-4c53-b134-8abf968d93e8",
   "metadata": {},
   "outputs": [
    {
     "data": {
      "text/plain": [
       "800"
      ]
     },
     "execution_count": 12,
     "metadata": {},
     "output_type": "execute_result"
    }
   ],
   "source": [
    "len(labels)"
   ]
  },
  {
   "cell_type": "code",
   "execution_count": 17,
   "id": "0f0e41c3-4dad-4c94-86a6-cf090b976e4a",
   "metadata": {},
   "outputs": [],
   "source": [
    "data = pd.DataFrame({\"file_paths\":paths, \"labels\":labels})"
   ]
  },
  {
   "cell_type": "code",
   "execution_count": 18,
   "id": "1ad7e6a5-275d-44b9-9012-3c8e1bdd3f0c",
   "metadata": {},
   "outputs": [
    {
     "data": {
      "text/html": [
       "<div>\n",
       "<style scoped>\n",
       "    .dataframe tbody tr th:only-of-type {\n",
       "        vertical-align: middle;\n",
       "    }\n",
       "\n",
       "    .dataframe tbody tr th {\n",
       "        vertical-align: top;\n",
       "    }\n",
       "\n",
       "    .dataframe thead th {\n",
       "        text-align: right;\n",
       "    }\n",
       "</style>\n",
       "<table border=\"1\" class=\"dataframe\">\n",
       "  <thead>\n",
       "    <tr style=\"text-align: right;\">\n",
       "      <th></th>\n",
       "      <th>file_paths</th>\n",
       "      <th>labels</th>\n",
       "    </tr>\n",
       "  </thead>\n",
       "  <tbody>\n",
       "    <tr>\n",
       "      <th>0</th>\n",
       "      <td>../DATASET/archive/audio_data/train/pop/pop.00...</td>\n",
       "      <td>pop</td>\n",
       "    </tr>\n",
       "    <tr>\n",
       "      <th>1</th>\n",
       "      <td>../DATASET/archive/audio_data/train/pop/pop.00...</td>\n",
       "      <td>pop</td>\n",
       "    </tr>\n",
       "    <tr>\n",
       "      <th>2</th>\n",
       "      <td>../DATASET/archive/audio_data/train/pop/pop.00...</td>\n",
       "      <td>pop</td>\n",
       "    </tr>\n",
       "    <tr>\n",
       "      <th>3</th>\n",
       "      <td>../DATASET/archive/audio_data/train/pop/pop.00...</td>\n",
       "      <td>pop</td>\n",
       "    </tr>\n",
       "    <tr>\n",
       "      <th>4</th>\n",
       "      <td>../DATASET/archive/audio_data/train/pop/pop.00...</td>\n",
       "      <td>pop</td>\n",
       "    </tr>\n",
       "  </tbody>\n",
       "</table>\n",
       "</div>"
      ],
      "text/plain": [
       "                                          file_paths labels\n",
       "0  ../DATASET/archive/audio_data/train/pop/pop.00...    pop\n",
       "1  ../DATASET/archive/audio_data/train/pop/pop.00...    pop\n",
       "2  ../DATASET/archive/audio_data/train/pop/pop.00...    pop\n",
       "3  ../DATASET/archive/audio_data/train/pop/pop.00...    pop\n",
       "4  ../DATASET/archive/audio_data/train/pop/pop.00...    pop"
      ]
     },
     "execution_count": 18,
     "metadata": {},
     "output_type": "execute_result"
    }
   ],
   "source": [
    "data.head()"
   ]
  },
  {
   "cell_type": "code",
   "execution_count": 20,
   "id": "58412a44-8634-4c70-8f6a-733c790652e0",
   "metadata": {},
   "outputs": [],
   "source": [
    "data = data.sort_values(by=\"labels\")"
   ]
  },
  {
   "cell_type": "code",
   "execution_count": 21,
   "id": "42130cb9-980c-4c24-8231-e3af4f6c4b36",
   "metadata": {},
   "outputs": [],
   "source": [
    "data.reset_index(inplace=True)"
   ]
  },
  {
   "cell_type": "code",
   "execution_count": 23,
   "id": "78762a7a-094f-4cbc-9219-643ed8254305",
   "metadata": {},
   "outputs": [],
   "source": [
    "data.drop(\"index\", axis=1, inplace=True)"
   ]
  },
  {
   "cell_type": "code",
   "execution_count": 24,
   "id": "4aba78f1-517f-45d2-bda2-08c0f597eaea",
   "metadata": {},
   "outputs": [
    {
     "data": {
      "text/html": [
       "<div>\n",
       "<style scoped>\n",
       "    .dataframe tbody tr th:only-of-type {\n",
       "        vertical-align: middle;\n",
       "    }\n",
       "\n",
       "    .dataframe tbody tr th {\n",
       "        vertical-align: top;\n",
       "    }\n",
       "\n",
       "    .dataframe thead th {\n",
       "        text-align: right;\n",
       "    }\n",
       "</style>\n",
       "<table border=\"1\" class=\"dataframe\">\n",
       "  <thead>\n",
       "    <tr style=\"text-align: right;\">\n",
       "      <th></th>\n",
       "      <th>file_paths</th>\n",
       "      <th>labels</th>\n",
       "    </tr>\n",
       "  </thead>\n",
       "  <tbody>\n",
       "    <tr>\n",
       "      <th>0</th>\n",
       "      <td>../DATASET/archive/audio_data/train/blues/blue...</td>\n",
       "      <td>blues</td>\n",
       "    </tr>\n",
       "    <tr>\n",
       "      <th>1</th>\n",
       "      <td>../DATASET/archive/audio_data/train/blues/blue...</td>\n",
       "      <td>blues</td>\n",
       "    </tr>\n",
       "    <tr>\n",
       "      <th>2</th>\n",
       "      <td>../DATASET/archive/audio_data/train/blues/blue...</td>\n",
       "      <td>blues</td>\n",
       "    </tr>\n",
       "    <tr>\n",
       "      <th>3</th>\n",
       "      <td>../DATASET/archive/audio_data/train/blues/blue...</td>\n",
       "      <td>blues</td>\n",
       "    </tr>\n",
       "    <tr>\n",
       "      <th>4</th>\n",
       "      <td>../DATASET/archive/audio_data/train/blues/blue...</td>\n",
       "      <td>blues</td>\n",
       "    </tr>\n",
       "  </tbody>\n",
       "</table>\n",
       "</div>"
      ],
      "text/plain": [
       "                                          file_paths labels\n",
       "0  ../DATASET/archive/audio_data/train/blues/blue...  blues\n",
       "1  ../DATASET/archive/audio_data/train/blues/blue...  blues\n",
       "2  ../DATASET/archive/audio_data/train/blues/blue...  blues\n",
       "3  ../DATASET/archive/audio_data/train/blues/blue...  blues\n",
       "4  ../DATASET/archive/audio_data/train/blues/blue...  blues"
      ]
     },
     "execution_count": 24,
     "metadata": {},
     "output_type": "execute_result"
    }
   ],
   "source": [
    "data.head()"
   ]
  },
  {
   "cell_type": "code",
   "execution_count": 32,
   "id": "3f3f3367-aa8e-4adc-944a-608d4725dd32",
   "metadata": {},
   "outputs": [],
   "source": [
    "# mfccs extraction to use ml\n",
    "def mfccs_extraction(file):\n",
    "\n",
    "    audio, sr = librosa.load(file)\n",
    "    mfccs = librosa.feature.mfcc(y=audio, sr=sr, n_mfcc=40)\n",
    "    scaled = np.mean(mfccs.T, axis=0)\n",
    "    return scaled"
   ]
  },
  {
   "cell_type": "code",
   "execution_count": 33,
   "id": "6698520a-e8f9-4503-b295-702134b27f81",
   "metadata": {},
   "outputs": [],
   "source": [
    "data[\"mfccs\"] = data.file_paths.apply(mfccs_extraction)"
   ]
  },
  {
   "cell_type": "code",
   "execution_count": 34,
   "id": "87f98243-f23d-4f61-8c4c-7edf5d372c57",
   "metadata": {},
   "outputs": [
    {
     "data": {
      "text/html": [
       "<div>\n",
       "<style scoped>\n",
       "    .dataframe tbody tr th:only-of-type {\n",
       "        vertical-align: middle;\n",
       "    }\n",
       "\n",
       "    .dataframe tbody tr th {\n",
       "        vertical-align: top;\n",
       "    }\n",
       "\n",
       "    .dataframe thead th {\n",
       "        text-align: right;\n",
       "    }\n",
       "</style>\n",
       "<table border=\"1\" class=\"dataframe\">\n",
       "  <thead>\n",
       "    <tr style=\"text-align: right;\">\n",
       "      <th></th>\n",
       "      <th>file_paths</th>\n",
       "      <th>labels</th>\n",
       "      <th>mfccs</th>\n",
       "    </tr>\n",
       "  </thead>\n",
       "  <tbody>\n",
       "    <tr>\n",
       "      <th>0</th>\n",
       "      <td>../DATASET/archive/audio_data/train/blues/blue...</td>\n",
       "      <td>blues</td>\n",
       "      <td>[-346.85635, 139.25108, 24.052633, 22.281025, ...</td>\n",
       "    </tr>\n",
       "    <tr>\n",
       "      <th>1</th>\n",
       "      <td>../DATASET/archive/audio_data/train/blues/blue...</td>\n",
       "      <td>blues</td>\n",
       "      <td>[-236.30539, 161.68063, -1.1661628, 27.27869, ...</td>\n",
       "    </tr>\n",
       "    <tr>\n",
       "      <th>2</th>\n",
       "      <td>../DATASET/archive/audio_data/train/blues/blue...</td>\n",
       "      <td>blues</td>\n",
       "      <td>[-209.80392, 124.46476, 10.309394, 47.016357, ...</td>\n",
       "    </tr>\n",
       "    <tr>\n",
       "      <th>3</th>\n",
       "      <td>../DATASET/archive/audio_data/train/blues/blue...</td>\n",
       "      <td>blues</td>\n",
       "      <td>[-288.7327, 105.90115, 18.776207, 23.682646, 5...</td>\n",
       "    </tr>\n",
       "    <tr>\n",
       "      <th>4</th>\n",
       "      <td>../DATASET/archive/audio_data/train/blues/blue...</td>\n",
       "      <td>blues</td>\n",
       "      <td>[-199.57513, 150.0861, 5.663404, 26.855282, 1....</td>\n",
       "    </tr>\n",
       "  </tbody>\n",
       "</table>\n",
       "</div>"
      ],
      "text/plain": [
       "                                          file_paths labels  \\\n",
       "0  ../DATASET/archive/audio_data/train/blues/blue...  blues   \n",
       "1  ../DATASET/archive/audio_data/train/blues/blue...  blues   \n",
       "2  ../DATASET/archive/audio_data/train/blues/blue...  blues   \n",
       "3  ../DATASET/archive/audio_data/train/blues/blue...  blues   \n",
       "4  ../DATASET/archive/audio_data/train/blues/blue...  blues   \n",
       "\n",
       "                                               mfccs  \n",
       "0  [-346.85635, 139.25108, 24.052633, 22.281025, ...  \n",
       "1  [-236.30539, 161.68063, -1.1661628, 27.27869, ...  \n",
       "2  [-209.80392, 124.46476, 10.309394, 47.016357, ...  \n",
       "3  [-288.7327, 105.90115, 18.776207, 23.682646, 5...  \n",
       "4  [-199.57513, 150.0861, 5.663404, 26.855282, 1....  "
      ]
     },
     "execution_count": 34,
     "metadata": {},
     "output_type": "execute_result"
    }
   ],
   "source": [
    "data.head()"
   ]
  },
  {
   "cell_type": "code",
   "execution_count": 35,
   "id": "b1c43508-4f69-4019-968e-b707e74a75fb",
   "metadata": {},
   "outputs": [],
   "source": [
    "data_extracted = data.copy()"
   ]
  },
  {
   "cell_type": "code",
   "execution_count": 41,
   "id": "106b74ba-1f81-4ac4-8ffa-03169ca7fd30",
   "metadata": {},
   "outputs": [],
   "source": [
    "X = np.array(data_extracted[\"mfccs\"].tolist())\n",
    "y = np.array(data_extracted[\"labels\"].tolist())"
   ]
  },
  {
   "cell_type": "code",
   "execution_count": 42,
   "id": "b8ff13df-0bef-46ab-81a3-bb8b086bc98a",
   "metadata": {},
   "outputs": [
    {
     "data": {
      "text/plain": [
       "(800, 40)"
      ]
     },
     "execution_count": 42,
     "metadata": {},
     "output_type": "execute_result"
    }
   ],
   "source": [
    "X.shape"
   ]
  },
  {
   "cell_type": "code",
   "execution_count": 43,
   "id": "a3232fd6-f31c-48de-a7d0-be88268fcfb4",
   "metadata": {},
   "outputs": [
    {
     "data": {
      "text/plain": [
       "(800,)"
      ]
     },
     "execution_count": 43,
     "metadata": {},
     "output_type": "execute_result"
    }
   ],
   "source": [
    "y.shape"
   ]
  },
  {
   "cell_type": "code",
   "execution_count": 44,
   "id": "fe067479-8d74-4d00-aa4d-7b474f32aa04",
   "metadata": {},
   "outputs": [],
   "source": [
    "y = np.array(pd.get_dummies(y, dtype=int))"
   ]
  },
  {
   "cell_type": "code",
   "execution_count": 46,
   "id": "4980a6ae-a4e4-4785-bf39-d1c4ac7021fa",
   "metadata": {},
   "outputs": [],
   "source": [
    "# train test splitting\n",
    "X_train, X_test, y_train , y_test = train_test_split(X, y, train_size=0.8, random_state=42)"
   ]
  },
  {
   "cell_type": "code",
   "execution_count": 47,
   "id": "a0df48ed-7d13-46f7-8d3c-e2f2e3a5e341",
   "metadata": {},
   "outputs": [
    {
     "data": {
      "text/plain": [
       "(640, 40)"
      ]
     },
     "execution_count": 47,
     "metadata": {},
     "output_type": "execute_result"
    }
   ],
   "source": [
    "X_train.shape"
   ]
  },
  {
   "cell_type": "code",
   "execution_count": 48,
   "id": "47d922e0-19a9-4960-970b-776c39f292f0",
   "metadata": {},
   "outputs": [
    {
     "data": {
      "text/plain": [
       "(640, 10)"
      ]
     },
     "execution_count": 48,
     "metadata": {},
     "output_type": "execute_result"
    }
   ],
   "source": [
    "y_train.shape"
   ]
  },
  {
   "cell_type": "code",
   "execution_count": 49,
   "id": "f49e0662-fe76-4327-9410-1a1edf2e9839",
   "metadata": {},
   "outputs": [],
   "source": [
    "from sklearn.metrics import classification_report, accuracy_score, f1_score"
   ]
  },
  {
   "cell_type": "code",
   "execution_count": 109,
   "id": "d1e270c3-4dd7-48d8-8963-4e7da74264a1",
   "metadata": {},
   "outputs": [],
   "source": [
    "def evalution(model, model_name):\n",
    "    prediction = model.predict_classes(X_test)\n",
    "    accuracy = accuracy_score(y_test, prediction)\n",
    "    f1_score_ = f1_score(y_test, prediction)\n",
    "    print(classification_report(y_test, prediction))\n",
    "    print(\"\\naccuracy :\", accuracy)\n",
    "    print(\"\\f1_score: \", f1_score_)"
   ]
  },
  {
   "cell_type": "code",
   "execution_count": 184,
   "id": "391e9016-2b13-47c5-ac34-8bed28c14949",
   "metadata": {},
   "outputs": [],
   "source": [
    "def preprocess_for_custom_input(file_path):\n",
    "    audio, sr = librosa.load(file_path)\n",
    "    mfccs = librosa.feature.mfcc(y=audio, sr=sr, n_mfcc=40)\n",
    "    scaled = np.mean(mfccs.T, axis=0)\n",
    "    return scaled"
   ]
  },
  {
   "cell_type": "markdown",
   "id": "d275abe1-e32a-4d2e-80c0-417d0373588a",
   "metadata": {},
   "source": [
    "### MODEL SECTION"
   ]
  },
  {
   "cell_type": "code",
   "execution_count": 151,
   "id": "94ad4a60-f539-4926-8411-1b42a92e3a48",
   "metadata": {},
   "outputs": [],
   "source": [
    "from keras.models import Sequential\n",
    "from keras.layers import *\n",
    "from keras.metrics import Recall, Precision\n",
    "from keras.regularizers import l1\n",
    "from keras.callbacks import EarlyStopping, ModelCheckpoint"
   ]
  },
  {
   "cell_type": "code",
   "execution_count": 169,
   "id": "36e80246-3592-4b74-b8dc-787ddd49ee82",
   "metadata": {},
   "outputs": [],
   "source": [
    "model = Sequential()\n",
    "model.add(InputLayer((None, 40)))\n",
    "model.add(Dense(512, activation=\"relu\"))\n",
    "model.add(Dropout(0.4))\n",
    "model.add(Dense(512, activation=\"relu\"))\n",
    "model.add(Dropout(0.4))\n",
    "model.add(Dense(512, activation=\"relu\"))\n",
    "model.add(Dropout(0.4))\n",
    "model.add(Dense(10, activation=\"softmax\"))"
   ]
  },
  {
   "cell_type": "code",
   "execution_count": 170,
   "id": "57748388-f4c7-4c88-ac49-f09e930a2780",
   "metadata": {},
   "outputs": [],
   "source": [
    "model.compile(loss=\"categorical_crossentropy\", optimizer=\"adam\", metrics=[\"accuracy\"])"
   ]
  },
  {
   "cell_type": "code",
   "execution_count": 171,
   "id": "63ee4038-6175-4a8d-ad09-8b4f481a2ac5",
   "metadata": {},
   "outputs": [],
   "source": [
    "ea = EarlyStopping(monitor=\"val_loss\", mode=\"min\", start_from_epoch=10, patience=30)\n",
    "md = ModelCheckpoint(\"../models/music\",save_best_only=True)"
   ]
  },
  {
   "cell_type": "code",
   "execution_count": 172,
   "id": "825dceeb-15d8-4188-b736-3a27550024b8",
   "metadata": {},
   "outputs": [
    {
     "name": "stdout",
     "output_type": "stream",
     "text": [
      "Epoch 1/500\n",
      "21/40 [==============>...............] - ETA: 0s - loss: 12.6818 - accuracy: 0.1399 INFO:tensorflow:Assets written to: ../models/music/assets\n"
     ]
    },
    {
     "name": "stderr",
     "output_type": "stream",
     "text": [
      "INFO:tensorflow:Assets written to: ../models/music/assets\n"
     ]
    },
    {
     "name": "stdout",
     "output_type": "stream",
     "text": [
      "40/40 [==============================] - 2s 20ms/step - loss: 9.7817 - accuracy: 0.1719 - val_loss: 2.2573 - val_accuracy: 0.2625\n",
      "Epoch 2/500\n",
      "26/40 [==================>...........] - ETA: 0s - loss: 4.4040 - accuracy: 0.2500INFO:tensorflow:Assets written to: ../models/music/assets\n"
     ]
    },
    {
     "name": "stderr",
     "output_type": "stream",
     "text": [
      "INFO:tensorflow:Assets written to: ../models/music/assets\n"
     ]
    },
    {
     "name": "stdout",
     "output_type": "stream",
     "text": [
      "40/40 [==============================] - 1s 14ms/step - loss: 4.0737 - accuracy: 0.2391 - val_loss: 1.8505 - val_accuracy: 0.3313\n",
      "Epoch 3/500\n",
      "26/40 [==================>...........] - ETA: 0s - loss: 2.8481 - accuracy: 0.3101INFO:tensorflow:Assets written to: ../models/music/assets\n"
     ]
    },
    {
     "name": "stderr",
     "output_type": "stream",
     "text": [
      "INFO:tensorflow:Assets written to: ../models/music/assets\n"
     ]
    },
    {
     "name": "stdout",
     "output_type": "stream",
     "text": [
      "40/40 [==============================] - 1s 14ms/step - loss: 2.7714 - accuracy: 0.3016 - val_loss: 1.7399 - val_accuracy: 0.3875\n",
      "Epoch 4/500\n",
      "24/40 [=================>............] - ETA: 0s - loss: 2.3885 - accuracy: 0.2812INFO:tensorflow:Assets written to: ../models/music/assets\n"
     ]
    },
    {
     "name": "stderr",
     "output_type": "stream",
     "text": [
      "INFO:tensorflow:Assets written to: ../models/music/assets\n"
     ]
    },
    {
     "name": "stdout",
     "output_type": "stream",
     "text": [
      "40/40 [==============================] - 1s 15ms/step - loss: 2.4209 - accuracy: 0.2703 - val_loss: 1.7046 - val_accuracy: 0.4062\n",
      "Epoch 5/500\n",
      "23/40 [================>.............] - ETA: 0s - loss: 2.1323 - accuracy: 0.3125INFO:tensorflow:Assets written to: ../models/music/assets\n"
     ]
    },
    {
     "name": "stderr",
     "output_type": "stream",
     "text": [
      "INFO:tensorflow:Assets written to: ../models/music/assets\n"
     ]
    },
    {
     "name": "stdout",
     "output_type": "stream",
     "text": [
      "40/40 [==============================] - 1s 14ms/step - loss: 2.0722 - accuracy: 0.3313 - val_loss: 1.6830 - val_accuracy: 0.3875\n",
      "Epoch 6/500\n",
      "25/40 [=================>............] - ETA: 0s - loss: 2.0020 - accuracy: 0.3250INFO:tensorflow:Assets written to: ../models/music/assets\n"
     ]
    },
    {
     "name": "stderr",
     "output_type": "stream",
     "text": [
      "INFO:tensorflow:Assets written to: ../models/music/assets\n"
     ]
    },
    {
     "name": "stdout",
     "output_type": "stream",
     "text": [
      "40/40 [==============================] - 1s 14ms/step - loss: 1.9688 - accuracy: 0.3297 - val_loss: 1.6359 - val_accuracy: 0.4062\n",
      "Epoch 7/500\n",
      "26/40 [==================>...........] - ETA: 0s - loss: 1.8346 - accuracy: 0.3822INFO:tensorflow:Assets written to: ../models/music/assets\n"
     ]
    },
    {
     "name": "stderr",
     "output_type": "stream",
     "text": [
      "INFO:tensorflow:Assets written to: ../models/music/assets\n"
     ]
    },
    {
     "name": "stdout",
     "output_type": "stream",
     "text": [
      "40/40 [==============================] - 1s 14ms/step - loss: 1.8500 - accuracy: 0.3641 - val_loss: 1.6018 - val_accuracy: 0.4250\n",
      "Epoch 8/500\n",
      "27/40 [===================>..........] - ETA: 0s - loss: 1.8413 - accuracy: 0.3796INFO:tensorflow:Assets written to: ../models/music/assets\n"
     ]
    },
    {
     "name": "stderr",
     "output_type": "stream",
     "text": [
      "INFO:tensorflow:Assets written to: ../models/music/assets\n"
     ]
    },
    {
     "name": "stdout",
     "output_type": "stream",
     "text": [
      "40/40 [==============================] - 1s 14ms/step - loss: 1.8301 - accuracy: 0.3703 - val_loss: 1.5603 - val_accuracy: 0.4437\n",
      "Epoch 9/500\n",
      "25/40 [=================>............] - ETA: 0s - loss: 1.8574 - accuracy: 0.4125INFO:tensorflow:Assets written to: ../models/music/assets\n"
     ]
    },
    {
     "name": "stderr",
     "output_type": "stream",
     "text": [
      "INFO:tensorflow:Assets written to: ../models/music/assets\n"
     ]
    },
    {
     "name": "stdout",
     "output_type": "stream",
     "text": [
      "40/40 [==============================] - 1s 15ms/step - loss: 1.8326 - accuracy: 0.4016 - val_loss: 1.5399 - val_accuracy: 0.4375\n",
      "Epoch 10/500\n",
      "40/40 [==============================] - 0s 3ms/step - loss: 1.6812 - accuracy: 0.4078 - val_loss: 1.5623 - val_accuracy: 0.4563\n",
      "Epoch 11/500\n",
      "25/40 [=================>............] - ETA: 0s - loss: 1.6672 - accuracy: 0.4225INFO:tensorflow:Assets written to: ../models/music/assets\n"
     ]
    },
    {
     "name": "stderr",
     "output_type": "stream",
     "text": [
      "INFO:tensorflow:Assets written to: ../models/music/assets\n"
     ]
    },
    {
     "name": "stdout",
     "output_type": "stream",
     "text": [
      "40/40 [==============================] - 1s 14ms/step - loss: 1.6706 - accuracy: 0.4266 - val_loss: 1.4895 - val_accuracy: 0.4375\n",
      "Epoch 12/500\n",
      "26/40 [==================>...........] - ETA: 0s - loss: 1.6281 - accuracy: 0.4207INFO:tensorflow:Assets written to: ../models/music/assets\n"
     ]
    },
    {
     "name": "stderr",
     "output_type": "stream",
     "text": [
      "INFO:tensorflow:Assets written to: ../models/music/assets\n"
     ]
    },
    {
     "name": "stdout",
     "output_type": "stream",
     "text": [
      "40/40 [==============================] - 1s 15ms/step - loss: 1.5910 - accuracy: 0.4141 - val_loss: 1.4709 - val_accuracy: 0.4688\n",
      "Epoch 13/500\n",
      "25/40 [=================>............] - ETA: 0s - loss: 1.5066 - accuracy: 0.4550INFO:tensorflow:Assets written to: ../models/music/assets\n"
     ]
    },
    {
     "name": "stderr",
     "output_type": "stream",
     "text": [
      "INFO:tensorflow:Assets written to: ../models/music/assets\n"
     ]
    },
    {
     "name": "stdout",
     "output_type": "stream",
     "text": [
      "40/40 [==============================] - 1s 15ms/step - loss: 1.5073 - accuracy: 0.4750 - val_loss: 1.4528 - val_accuracy: 0.4750\n",
      "Epoch 14/500\n",
      "26/40 [==================>...........] - ETA: 0s - loss: 1.5621 - accuracy: 0.4543INFO:tensorflow:Assets written to: ../models/music/assets\n"
     ]
    },
    {
     "name": "stderr",
     "output_type": "stream",
     "text": [
      "INFO:tensorflow:Assets written to: ../models/music/assets\n"
     ]
    },
    {
     "name": "stdout",
     "output_type": "stream",
     "text": [
      "40/40 [==============================] - 1s 36ms/step - loss: 1.5568 - accuracy: 0.4484 - val_loss: 1.4162 - val_accuracy: 0.5562\n",
      "Epoch 15/500\n",
      "40/40 [==============================] - 0s 3ms/step - loss: 1.4947 - accuracy: 0.4781 - val_loss: 1.4188 - val_accuracy: 0.5250\n",
      "Epoch 16/500\n",
      "40/40 [==============================] - 0s 3ms/step - loss: 1.4266 - accuracy: 0.5047 - val_loss: 1.4208 - val_accuracy: 0.4938\n",
      "Epoch 17/500\n",
      "25/40 [=================>............] - ETA: 0s - loss: 1.4567 - accuracy: 0.4775INFO:tensorflow:Assets written to: ../models/music/assets\n"
     ]
    },
    {
     "name": "stderr",
     "output_type": "stream",
     "text": [
      "INFO:tensorflow:Assets written to: ../models/music/assets\n"
     ]
    },
    {
     "name": "stdout",
     "output_type": "stream",
     "text": [
      "40/40 [==============================] - 1s 14ms/step - loss: 1.4298 - accuracy: 0.5000 - val_loss: 1.4074 - val_accuracy: 0.5375\n",
      "Epoch 18/500\n",
      "25/40 [=================>............] - ETA: 0s - loss: 1.3727 - accuracy: 0.5125INFO:tensorflow:Assets written to: ../models/music/assets\n"
     ]
    },
    {
     "name": "stderr",
     "output_type": "stream",
     "text": [
      "INFO:tensorflow:Assets written to: ../models/music/assets\n"
     ]
    },
    {
     "name": "stdout",
     "output_type": "stream",
     "text": [
      "40/40 [==============================] - 1s 14ms/step - loss: 1.3458 - accuracy: 0.5125 - val_loss: 1.3355 - val_accuracy: 0.5250\n",
      "Epoch 19/500\n",
      "27/40 [===================>..........] - ETA: 0s - loss: 1.3405 - accuracy: 0.5255INFO:tensorflow:Assets written to: ../models/music/assets\n"
     ]
    },
    {
     "name": "stderr",
     "output_type": "stream",
     "text": [
      "INFO:tensorflow:Assets written to: ../models/music/assets\n"
     ]
    },
    {
     "name": "stdout",
     "output_type": "stream",
     "text": [
      "40/40 [==============================] - 1s 14ms/step - loss: 1.3432 - accuracy: 0.5125 - val_loss: 1.2978 - val_accuracy: 0.5562\n",
      "Epoch 20/500\n",
      "40/40 [==============================] - 0s 3ms/step - loss: 1.2776 - accuracy: 0.5422 - val_loss: 1.2979 - val_accuracy: 0.5375\n",
      "Epoch 21/500\n",
      "28/40 [====================>.........] - ETA: 0s - loss: 1.2592 - accuracy: 0.5536INFO:tensorflow:Assets written to: ../models/music/assets\n"
     ]
    },
    {
     "name": "stderr",
     "output_type": "stream",
     "text": [
      "INFO:tensorflow:Assets written to: ../models/music/assets\n"
     ]
    },
    {
     "name": "stdout",
     "output_type": "stream",
     "text": [
      "40/40 [==============================] - 1s 14ms/step - loss: 1.2306 - accuracy: 0.5641 - val_loss: 1.2847 - val_accuracy: 0.5500\n",
      "Epoch 22/500\n",
      "40/40 [==============================] - 0s 3ms/step - loss: 1.2599 - accuracy: 0.5547 - val_loss: 1.3356 - val_accuracy: 0.5312\n",
      "Epoch 23/500\n",
      "40/40 [==============================] - 0s 3ms/step - loss: 1.2107 - accuracy: 0.5875 - val_loss: 1.3611 - val_accuracy: 0.5188\n",
      "Epoch 24/500\n",
      "40/40 [==============================] - 0s 3ms/step - loss: 1.1550 - accuracy: 0.5984 - val_loss: 1.2877 - val_accuracy: 0.5250\n",
      "Epoch 25/500\n",
      "30/40 [=====================>........] - ETA: 0s - loss: 1.0848 - accuracy: 0.6146INFO:tensorflow:Assets written to: ../models/music/assets\n"
     ]
    },
    {
     "name": "stderr",
     "output_type": "stream",
     "text": [
      "INFO:tensorflow:Assets written to: ../models/music/assets\n"
     ]
    },
    {
     "name": "stdout",
     "output_type": "stream",
     "text": [
      "40/40 [==============================] - 1s 14ms/step - loss: 1.1209 - accuracy: 0.5953 - val_loss: 1.2798 - val_accuracy: 0.5437\n",
      "Epoch 26/500\n",
      "28/40 [====================>.........] - ETA: 0s - loss: 1.0146 - accuracy: 0.6183INFO:tensorflow:Assets written to: ../models/music/assets\n"
     ]
    },
    {
     "name": "stderr",
     "output_type": "stream",
     "text": [
      "INFO:tensorflow:Assets written to: ../models/music/assets\n"
     ]
    },
    {
     "name": "stdout",
     "output_type": "stream",
     "text": [
      "40/40 [==============================] - 1s 14ms/step - loss: 1.0720 - accuracy: 0.6141 - val_loss: 1.2610 - val_accuracy: 0.5312\n",
      "Epoch 27/500\n",
      "40/40 [==============================] - 0s 3ms/step - loss: 1.0891 - accuracy: 0.6172 - val_loss: 1.2869 - val_accuracy: 0.5688\n",
      "Epoch 28/500\n",
      "40/40 [==============================] - 0s 3ms/step - loss: 0.9994 - accuracy: 0.6562 - val_loss: 1.3179 - val_accuracy: 0.5500\n",
      "Epoch 29/500\n",
      "40/40 [==============================] - 0s 3ms/step - loss: 1.0535 - accuracy: 0.6328 - val_loss: 1.2767 - val_accuracy: 0.5437\n",
      "Epoch 30/500\n",
      "40/40 [==============================] - 0s 2ms/step - loss: 1.0032 - accuracy: 0.6578 - val_loss: 1.2991 - val_accuracy: 0.5250\n",
      "Epoch 31/500\n",
      "26/40 [==================>...........] - ETA: 0s - loss: 0.9747 - accuracy: 0.6635INFO:tensorflow:Assets written to: ../models/music/assets\n"
     ]
    },
    {
     "name": "stderr",
     "output_type": "stream",
     "text": [
      "INFO:tensorflow:Assets written to: ../models/music/assets\n"
     ]
    },
    {
     "name": "stdout",
     "output_type": "stream",
     "text": [
      "40/40 [==============================] - 1s 14ms/step - loss: 1.0008 - accuracy: 0.6500 - val_loss: 1.2042 - val_accuracy: 0.5688\n",
      "Epoch 32/500\n",
      "40/40 [==============================] - 0s 3ms/step - loss: 0.9024 - accuracy: 0.6875 - val_loss: 1.3185 - val_accuracy: 0.5688\n",
      "Epoch 33/500\n",
      "40/40 [==============================] - 0s 3ms/step - loss: 0.8967 - accuracy: 0.6875 - val_loss: 1.3034 - val_accuracy: 0.5750\n",
      "Epoch 34/500\n",
      "40/40 [==============================] - 0s 3ms/step - loss: 0.8616 - accuracy: 0.6938 - val_loss: 1.2741 - val_accuracy: 0.6062\n",
      "Epoch 35/500\n",
      "40/40 [==============================] - 0s 3ms/step - loss: 0.8828 - accuracy: 0.6766 - val_loss: 1.3929 - val_accuracy: 0.5375\n",
      "Epoch 36/500\n",
      "40/40 [==============================] - 0s 3ms/step - loss: 0.8283 - accuracy: 0.7219 - val_loss: 1.3094 - val_accuracy: 0.5625\n",
      "Epoch 37/500\n",
      "40/40 [==============================] - 0s 2ms/step - loss: 0.8296 - accuracy: 0.7094 - val_loss: 1.2508 - val_accuracy: 0.5750\n",
      "Epoch 38/500\n",
      "40/40 [==============================] - 0s 3ms/step - loss: 0.8107 - accuracy: 0.7281 - val_loss: 1.2249 - val_accuracy: 0.6000\n",
      "Epoch 39/500\n",
      "40/40 [==============================] - 0s 2ms/step - loss: 0.8149 - accuracy: 0.7406 - val_loss: 1.3330 - val_accuracy: 0.5875\n",
      "Epoch 40/500\n",
      "40/40 [==============================] - 0s 3ms/step - loss: 0.8078 - accuracy: 0.7125 - val_loss: 1.2148 - val_accuracy: 0.6625\n",
      "Epoch 41/500\n",
      "40/40 [==============================] - 0s 3ms/step - loss: 0.6879 - accuracy: 0.7688 - val_loss: 1.2696 - val_accuracy: 0.6250\n",
      "Epoch 42/500\n",
      "40/40 [==============================] - 0s 3ms/step - loss: 0.7415 - accuracy: 0.7453 - val_loss: 1.3311 - val_accuracy: 0.6062\n",
      "Epoch 43/500\n",
      "40/40 [==============================] - 0s 2ms/step - loss: 0.7533 - accuracy: 0.7500 - val_loss: 1.3217 - val_accuracy: 0.5562\n",
      "Epoch 44/500\n",
      "40/40 [==============================] - 0s 2ms/step - loss: 0.7326 - accuracy: 0.7484 - val_loss: 1.3266 - val_accuracy: 0.6062\n",
      "Epoch 45/500\n",
      "40/40 [==============================] - 0s 3ms/step - loss: 0.6284 - accuracy: 0.7750 - val_loss: 1.4143 - val_accuracy: 0.6062\n",
      "Epoch 46/500\n",
      "40/40 [==============================] - 0s 2ms/step - loss: 0.7053 - accuracy: 0.7688 - val_loss: 1.2809 - val_accuracy: 0.5938\n",
      "Epoch 47/500\n",
      "40/40 [==============================] - 0s 3ms/step - loss: 0.6360 - accuracy: 0.7766 - val_loss: 1.3520 - val_accuracy: 0.6125\n",
      "Epoch 48/500\n",
      "40/40 [==============================] - 0s 2ms/step - loss: 0.5941 - accuracy: 0.8062 - val_loss: 1.3944 - val_accuracy: 0.5813\n",
      "Epoch 49/500\n",
      "40/40 [==============================] - 0s 3ms/step - loss: 0.6425 - accuracy: 0.7953 - val_loss: 1.3582 - val_accuracy: 0.6125\n",
      "Epoch 50/500\n",
      "40/40 [==============================] - 0s 2ms/step - loss: 0.5395 - accuracy: 0.8047 - val_loss: 1.4156 - val_accuracy: 0.6125\n",
      "Epoch 51/500\n",
      "40/40 [==============================] - 0s 3ms/step - loss: 0.5909 - accuracy: 0.7891 - val_loss: 1.3996 - val_accuracy: 0.6313\n",
      "Epoch 52/500\n",
      "40/40 [==============================] - 0s 3ms/step - loss: 0.5639 - accuracy: 0.8047 - val_loss: 1.3592 - val_accuracy: 0.6250\n",
      "Epoch 53/500\n",
      "40/40 [==============================] - 0s 2ms/step - loss: 0.6162 - accuracy: 0.7844 - val_loss: 1.3093 - val_accuracy: 0.6125\n",
      "Epoch 54/500\n",
      "40/40 [==============================] - 0s 3ms/step - loss: 0.6494 - accuracy: 0.7734 - val_loss: 1.3850 - val_accuracy: 0.5750\n",
      "Epoch 55/500\n",
      "40/40 [==============================] - 0s 3ms/step - loss: 0.5811 - accuracy: 0.7906 - val_loss: 1.2977 - val_accuracy: 0.6375\n",
      "Epoch 56/500\n",
      "40/40 [==============================] - 0s 2ms/step - loss: 0.5254 - accuracy: 0.8250 - val_loss: 1.4064 - val_accuracy: 0.6125\n",
      "Epoch 57/500\n",
      "40/40 [==============================] - 0s 3ms/step - loss: 0.5778 - accuracy: 0.8078 - val_loss: 1.3706 - val_accuracy: 0.6313\n",
      "Epoch 58/500\n",
      "40/40 [==============================] - 0s 3ms/step - loss: 0.5689 - accuracy: 0.8031 - val_loss: 1.4763 - val_accuracy: 0.5813\n",
      "Epoch 59/500\n",
      "40/40 [==============================] - 0s 2ms/step - loss: 0.5535 - accuracy: 0.8125 - val_loss: 1.4180 - val_accuracy: 0.6500\n",
      "Epoch 60/500\n",
      "40/40 [==============================] - 0s 3ms/step - loss: 0.5493 - accuracy: 0.8250 - val_loss: 1.4956 - val_accuracy: 0.6000\n",
      "Epoch 61/500\n",
      "40/40 [==============================] - 0s 3ms/step - loss: 0.4978 - accuracy: 0.8266 - val_loss: 1.4631 - val_accuracy: 0.6125\n"
     ]
    },
    {
     "data": {
      "text/plain": [
       "<keras.src.callbacks.History at 0x6ffac3ba9c60>"
      ]
     },
     "execution_count": 172,
     "metadata": {},
     "output_type": "execute_result"
    }
   ],
   "source": [
    "model.fit(x=X_train, y=y_train, batch_size=16, validation_data=(X_test, y_test), epochs=500, callbacks=[ea, md])"
   ]
  },
  {
   "cell_type": "code",
   "execution_count": 173,
   "id": "5a638485-be26-4625-8b3c-1622a7bdfe0d",
   "metadata": {},
   "outputs": [],
   "source": [
    "history_df = pd.DataFrame(model.history.history)"
   ]
  },
  {
   "cell_type": "code",
   "execution_count": 174,
   "id": "b63cc493-19b8-4ea9-8b0a-9dfc630ced84",
   "metadata": {},
   "outputs": [
    {
     "data": {
      "text/plain": [
       "<Axes: title={'center': 'Loss graph'}, xlabel='epochs', ylabel='val'>"
      ]
     },
     "execution_count": 174,
     "metadata": {},
     "output_type": "execute_result"
    },
    {
     "data": {
      "image/png": "[encoded data removed]",
      "text/plain": [
       "<Figure size 640x480 with 1 Axes>"
      ]
     },
     "metadata": {},
     "output_type": "display_data"
    }
   ],
   "source": [
    "history_df[[\"loss\", \"val_loss\"]].plot(title=\"Loss graph\", xlabel=\"epochs\", ylabel=\"val\")"
   ]
  },
  {
   "cell_type": "code",
   "execution_count": 175,
   "id": "c9b0e558-e600-46e5-89ee-0bddc80c16c9",
   "metadata": {},
   "outputs": [
    {
     "data": {
      "text/plain": [
       "<Axes: title={'center': 'Accuracy graph'}, xlabel='epochs', ylabel='val'>"
      ]
     },
     "execution_count": 175,
     "metadata": {},
     "output_type": "execute_result"
    },
    {
     "data": {
      "image/png": "[encoded data removed]",
      "text/plain": [
       "<Figure size 640x480 with 1 Axes>"
      ]
     },
     "metadata": {},
     "output_type": "display_data"
    }
   ],
   "source": [
    "history_df[[\"accuracy\", \"val_accuracy\"]].plot(title=\"Accuracy graph\", xlabel=\"epochs\", ylabel=\"val\")"
   ]
  },
  {
   "cell_type": "code",
   "execution_count": 176,
   "id": "7278ca95-3769-4fa6-9498-1583dc71dc47",
   "metadata": {},
   "outputs": [],
   "source": [
    "predict_classes = data.labels.unique()"
   ]
  },
  {
   "cell_type": "code",
   "execution_count": 177,
   "id": "cfb47043-f03a-4d19-873b-413053c735c1",
   "metadata": {},
   "outputs": [],
   "source": [
    "from keras.models import load_model"
   ]
  },
  {
   "cell_type": "code",
   "execution_count": 178,
   "id": "578a9dc5-30e9-4d9e-9c9d-d18674347d56",
   "metadata": {},
   "outputs": [],
   "source": [
    "loaded_model = load_model(\"../models/music\")"
   ]
  },
  {
   "cell_type": "code",
   "execution_count": 180,
   "id": "005eef3f-5406-4ca2-9236-c35fb625eef6",
   "metadata": {},
   "outputs": [
    {
     "name": "stdout",
     "output_type": "stream",
     "text": [
      "5/5 [==============================] - 0s 3ms/step - loss: 1.2042 - accuracy: 0.5688\n"
     ]
    },
    {
     "data": {
      "text/plain": [
       "[1.2042007446289062, 0.5687500238418579]"
      ]
     },
     "execution_count": 180,
     "metadata": {},
     "output_type": "execute_result"
    }
   ],
   "source": [
    "loaded_model.evaluate(X_test, y_test)"
   ]
  },
  {
   "cell_type": "code",
   "execution_count": 194,
   "id": "534fd60d-9b62-45a4-9e9a-e80e6c368555",
   "metadata": {},
   "outputs": [],
   "source": [
    "test_path = glob(\"../DATASET/archive/audio_data/test/*/*\")"
   ]
  },
  {
   "cell_type": "code",
   "execution_count": 195,
   "id": "02f48e4e-848b-454f-83a8-864047a6a064",
   "metadata": {},
   "outputs": [],
   "source": [
    "predicted_from_model = []\n",
    "real = []\n",
    "def serial_prediction():\n",
    "    for file in test_path:\n",
    "        custom_data = preprocess_for_custom_input(file_path=file)\n",
    "        predicted = loaded_model(custom_data.reshape(1, 40))\n",
    "        predicted_from_model.append(predict_classes[np.argmax(predicted)])\n",
    "        real.append(file.split(\"/\")[-2])"
   ]
  },
  {
   "cell_type": "code",
   "execution_count": 196,
   "id": "0846452d-bdf9-49b5-8d78-cb6f7341d1c7",
   "metadata": {},
   "outputs": [],
   "source": [
    "serial_prediction()"
   ]
  },
  {
   "cell_type": "code",
   "execution_count": 197,
   "id": "2a24c4aa-0912-46aa-8ec3-739e702ef2f4",
   "metadata": {},
   "outputs": [],
   "source": [
    "final_df = pd.DataFrame({\"predicted\":predicted_from_model, \"real\":real})"
   ]
  },
  {
   "cell_type": "code",
   "execution_count": 204,
   "id": "4f8a599e-efb4-4b3b-84be-d02341b28bca",
   "metadata": {},
   "outputs": [],
   "source": [
    "total = 0\n",
    "true = 0\n",
    "for yhat, y in zip(predicted_from_model, real):\n",
    "    if yhat == y:\n",
    "        true += 1\n",
    "    total += 1\n",
    "false = total-true"
   ]
  },
  {
   "cell_type": "code",
   "execution_count": 210,
   "id": "dc0e5abf-6357-4009-b97a-279da2ab58c6",
   "metadata": {},
   "outputs": [
    {
     "data": {
      "text/plain": [
       "<BarContainer object of 3 artists>"
      ]
     },
     "execution_count": 210,
     "metadata": {},
     "output_type": "execute_result"
    },
    {
     "data": {
      "image/png": "[encoded data removed]",
      "text/plain": [
       "<Figure size 640x480 with 1 Axes>"
      ]
     },
     "metadata": {},
     "output_type": "display_data"
    }
   ],
   "source": [
    "plt.bar([\"total\", \"true\", \"false\"], [total, true, false])"
   ]
  },
  {
   "cell_type": "code",
   "execution_count": 203,
   "id": "138c26cf-20b5-43de-8c9e-2a534528d241",
   "metadata": {},
   "outputs": [
    {
     "data": {
      "text/plain": [
       "125"
      ]
     },
     "execution_count": 203,
     "metadata": {},
     "output_type": "execute_result"
    }
   ],
   "source": []
  },
  {
   "cell_type": "code",
   "execution_count": null,
   "id": "1575c7d0-edc7-480b-8442-6a84d9b60fc9",
   "metadata": {},
   "outputs": [],
   "source": []
  }
 ],
 "metadata": {
  "kernelspec": {
   "display_name": "Python 3 (ipykernel)",
   "language": "python",
   "name": "python3"
  },
  "language_info": {
   "codemirror_mode": {
    "name": "ipython",
    "version": 3
   },
   "file_extension": ".py",
   "mimetype": "text/x-python",
   "name": "python",
   "nbconvert_exporter": "python",
   "pygments_lexer": "ipython3",
   "version": "3.10.12"
  }
 },
 "nbformat": 4,
 "nbformat_minor": 5
}
